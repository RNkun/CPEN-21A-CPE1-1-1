{
  "nbformat": 4,
  "nbformat_minor": 0,
  "metadata": {
    "colab": {
      "name": "Midterm Exam.ipynb",
      "provenance": [],
      "authorship_tag": "ABX9TyNNl7I68aUebMytj/IhtMAs",
      "include_colab_link": true
    },
    "kernelspec": {
      "name": "python3",
      "display_name": "Python 3"
    },
    "language_info": {
      "name": "python"
    }
  },
  "cells": [
    {
      "cell_type": "markdown",
      "metadata": {
        "id": "view-in-github",
        "colab_type": "text"
      },
      "source": [
        "<a href=\"https://colab.research.google.com/github/RNkun/CPEN-21A-CPE1-1-1/blob/main/Midterm_Exam.ipynb\" target=\"_parent\"><img src=\"https://colab.research.google.com/assets/colab-badge.svg\" alt=\"Open In Colab\"/></a>"
      ]
    },
    {
      "cell_type": "markdown",
      "metadata": {
        "id": "m6Gok2sshp36"
      },
      "source": [
        "##Problem Statement 1"
      ]
    },
    {
      "cell_type": "code",
      "metadata": {
        "colab": {
          "base_uri": "https://localhost:8080/"
        },
        "id": "Sy4-iQlLh1Xz",
        "outputId": "6b2c47b2-8cae-4af5-940c-430d0018e41c"
      },
      "source": [
        "Fn=\"Ryan Nico Anogante\"\n",
        "Sn=202101875\n",
        "age=21\n",
        "Birthday=\"November 21, 2000\"\n",
        "addr=\"Tanza, Cavite\"\n",
        "Cours=\"Bachelor of Science in Computer Engineering\"\n",
        "LSG=1.50\n",
        "\n",
        "print(\"My name is\", Fn +\".\",\"My Student Number is\", str(Sn) +\".\"\"I am\", str(age), \"years old.\",\"I lived in\", addr +\".\",\"Currently, I am taking\", Cours +\".\", \"My Last Sem GWA is\", str(LSG) +\".\")\n"
      ],
      "execution_count": 8,
      "outputs": [
        {
          "output_type": "stream",
          "name": "stdout",
          "text": [
            "My name is Ryan Nico Anogante. My Student Number is 202101875.I am 21 years old. I lived in Tanza, Cavite. Currently, I am taking Bachelor of Science in Computer Engineering. My Last Sem GWA is 1.5.\n"
          ]
        }
      ]
    },
    {
      "cell_type": "markdown",
      "metadata": {
        "id": "02py69hYm8Dy"
      },
      "source": [
        "##Problem Statement 2"
      ]
    },
    {
      "cell_type": "code",
      "metadata": {
        "colab": {
          "base_uri": "https://localhost:8080/"
        },
        "id": "szHPMzdEm_5J",
        "outputId": "f2f8c536-a8f5-44bf-b669-fa52fb70a645"
      },
      "source": [
        "n=4\n",
        "answ=\"Y\"\n",
        "\n",
        "print((2<n) and (n<6))\n",
        "print((2<n) or (n==6))\n",
        "print(not(2<n)or (n==6))\n",
        "print(not(n<6))\n",
        "print((answ==\"Y\") or (answ==\"y\"))\n",
        "print((answ==\"Y\") and (answ==\"y\"))\n",
        "print(not(answ==\"y\"))\n",
        "print((2<n) and (n==5+1) or (answ==\"No\"))\n",
        "print(((n==2) and (n==7)) or (answ==\"Y\"))\n",
        "print((n==2) and ((n==7) or (answ==\"Y\")))\n"
      ],
      "execution_count": 16,
      "outputs": [
        {
          "output_type": "stream",
          "name": "stdout",
          "text": [
            "True\n",
            "True\n",
            "False\n",
            "False\n",
            "True\n",
            "False\n",
            "True\n",
            "False\n",
            "True\n",
            "False\n"
          ]
        }
      ]
    },
    {
      "cell_type": "markdown",
      "metadata": {
        "id": "Y2ZlHAWcncKf"
      },
      "source": [
        "Problem Statement 3"
      ]
    },
    {
      "cell_type": "code",
      "metadata": {
        "colab": {
          "base_uri": "https://localhost:8080/"
        },
        "id": "SGfYh2x0nhKH",
        "outputId": "a14becb9-5bf8-4fc7-94e8-7a49c21befeb"
      },
      "source": [
        "w=7\n",
        "x=2\n",
        "y=-3\n",
        "z=-10\n",
        "\n",
        "print(x/y) \n",
        "print(w/y/x)\n",
        "print(z/y%x)\n",
        "print(x%-y*w) \n",
        "print(x%y)\n",
        "print(z%w-y/x*5+5)\n",
        "print(9-x%(2+y))\n",
        "print(z//w)\n",
        "print((2+y)**2)\n",
        "print(w/x*2)"
      ],
      "execution_count": 11,
      "outputs": [
        {
          "output_type": "stream",
          "name": "stdout",
          "text": [
            "-0.6666666666666666\n",
            "-1.1666666666666667\n",
            "1.3333333333333335\n",
            "14\n",
            "-1\n",
            "16.5\n",
            "9\n",
            "-2\n",
            "1\n",
            "7.0\n"
          ]
        }
      ]
    }
  ]
}
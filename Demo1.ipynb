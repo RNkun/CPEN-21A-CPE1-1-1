{
  "nbformat": 4,
  "nbformat_minor": 0,
  "metadata": {
    "colab": {
      "name": "Demo1.ipynb",
      "provenance": [],
      "collapsed_sections": [],
      "authorship_tag": "ABX9TyPu2KVhOEhdAsxe/GmY2SgM",
      "include_colab_link": true
    },
    "kernelspec": {
      "name": "python3",
      "display_name": "Python 3"
    },
    "language_info": {
      "name": "python"
    }
  },
  "cells": [
    {
      "cell_type": "markdown",
      "metadata": {
        "id": "view-in-github",
        "colab_type": "text"
      },
      "source": [
        "<a href=\"https://colab.research.google.com/github/RNkun/CPEN-21A-CPE1-1-1/blob/main/Demo1.ipynb\" target=\"_parent\"><img src=\"https://colab.research.google.com/assets/colab-badge.svg\" alt=\"Open In Colab\"/></a>"
      ]
    },
    {
      "cell_type": "code",
      "metadata": {
        "id": "7bJRW62Ci13D"
      },
      "source": [
        "##Demo1"
      ],
      "execution_count": 8,
      "outputs": []
    },
    {
      "cell_type": "code",
      "metadata": {
        "colab": {
          "base_uri": "https://localhost:8080/"
        },
        "id": "YHuDS5MajO3O",
        "outputId": "c347f32b-0cbb-4652-c546-ec29b53e7ef8"
      },
      "source": [
        "#Introduction\n",
        "#demo1\n",
        "A = \"Sally pero malaki\"\n",
        "a = \"Sally pero single\"\n",
        "b = \"Sally\"\n",
        "print(A)\n",
        "print(a)\n",
        "print(b)\n",
        "print(type(b))"
      ],
      "execution_count": 7,
      "outputs": [
        {
          "output_type": "stream",
          "name": "stdout",
          "text": [
            "Sally pero malaki\n",
            "Sally pero single\n",
            "Sally\n",
            "<class 'str'>\n"
          ]
        }
      ]
    },
    {
      "cell_type": "code",
      "metadata": {
        "colab": {
          "base_uri": "https://localhost:8080/"
        },
        "id": "T5h-bhULk-j5",
        "outputId": "69f77830-ba06-413a-b833-717e964418c6"
      },
      "source": [
        "a, b, c = \"apple\", \"boy\", \"cat\"\n",
        "d, e = 1, 2\n",
        "print(a, b, c, d, e)\n",
        "print(type(a))\n",
        "print(type(d))"
      ],
      "execution_count": 6,
      "outputs": [
        {
          "output_type": "stream",
          "name": "stdout",
          "text": [
            "apple boy cat 1 2\n",
            "<class 'str'>\n",
            "<class 'int'>\n"
          ]
        }
      ]
    },
    {
      "cell_type": "code",
      "metadata": {
        "colab": {
          "base_uri": "https://localhost:8080/"
        },
        "id": "xCgVgE_Jn57i",
        "outputId": "52eaca9f-5e47-4882-9869-e9278d928f08"
      },
      "source": [
        "a = float (4)\n",
        "b = int(4)\n",
        "c = 4.5\n",
        "print(a, b)\n",
        "print(type(c))"
      ],
      "execution_count": 9,
      "outputs": [
        {
          "output_type": "stream",
          "name": "stdout",
          "text": [
            "4.0 4\n",
            "<class 'float'>\n"
          ]
        }
      ]
    },
    {
      "cell_type": "code",
      "metadata": {
        "colab": {
          "base_uri": "https://localhost:8080/"
        },
        "id": "-0mJFhK5pb6z",
        "outputId": "0455ef58-cccb-4dce-e446-089f3740c447"
      },
      "source": [
        "x = y = z = \"three last letter\"\n",
        "print(z)\n",
        "print(y)\n",
        "print(x)"
      ],
      "execution_count": 10,
      "outputs": [
        {
          "output_type": "stream",
          "name": "stdout",
          "text": [
            "three last letter\n",
            "three last letter\n",
            "three last letter\n"
          ]
        }
      ]
    },
    {
      "cell_type": "code",
      "metadata": {
        "colab": {
          "base_uri": "https://localhost:8080/"
        },
        "id": "FFk4wOH5p6qY",
        "outputId": "1398fcc3-3a22-4238-c8de-5c2b266585c1"
      },
      "source": [
        "x = \"ok lang\"\n",
        "print('python programming is '+ x)"
      ],
      "execution_count": 13,
      "outputs": [
        {
          "output_type": "stream",
          "name": "stdout",
          "text": [
            "python programming is ok lang\n"
          ]
        }
      ]
    },
    {
      "cell_type": "code",
      "metadata": {
        "colab": {
          "base_uri": "https://localhost:8080/"
        },
        "id": "7O3LZNx3qqR5",
        "outputId": "4c91d99c-4177-4441-fde9-ed3adb164abb"
      },
      "source": [
        "x = 1\n",
        "y = 2\n",
        "print(x+y)\n",
        "print(x-y)\n",
        "print(x*y)\n",
        "print(x/y)\n",
        "x<y and x==y #example of program using logical operator"
      ],
      "execution_count": 14,
      "outputs": [
        {
          "output_type": "stream",
          "name": "stdout",
          "text": [
            "3\n",
            "-1\n",
            "2\n",
            "0.5\n"
          ]
        },
        {
          "output_type": "execute_result",
          "data": {
            "text/plain": [
              "False"
            ]
          },
          "metadata": {},
          "execution_count": 14
        }
      ]
    }
  ]
}
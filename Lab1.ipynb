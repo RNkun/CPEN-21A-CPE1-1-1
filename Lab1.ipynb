{
  "nbformat": 4,
  "nbformat_minor": 0,
  "metadata": {
    "colab": {
      "name": "Lab1.ipynb",
      "provenance": [],
      "authorship_tag": "ABX9TyNYLR4pab8j60Y1FnNSf03g",
      "include_colab_link": true
    },
    "kernelspec": {
      "name": "python3",
      "display_name": "Python 3"
    },
    "language_info": {
      "name": "python"
    }
  },
  "cells": [
    {
      "cell_type": "markdown",
      "metadata": {
        "id": "view-in-github",
        "colab_type": "text"
      },
      "source": [
        "<a href=\"https://colab.research.google.com/github/RNkun/CPEN-21A-CPE1-1-1/blob/main/Lab1.ipynb\" target=\"_parent\"><img src=\"https://colab.research.google.com/assets/colab-badge.svg\" alt=\"Open In Colab\"/></a>"
      ]
    },
    {
      "cell_type": "markdown",
      "metadata": {
        "id": "ZlVGEAJ_bRwl"
      },
      "source": [
        "Laboratory 1"
      ]
    },
    {
      "cell_type": "code",
      "metadata": {
        "colab": {
          "base_uri": "https://localhost:8080/"
        },
        "id": "TOoH1rdFbWg_",
        "outputId": "b6043f53-dca8-4672-c54c-4a293b12ebdf"
      },
      "source": [
        "print (\"Welcome to Python Programming!\")\n",
        "\n",
        "name = \"Ryan Nico Anogante \"\n",
        "addr = \"822 Udasco Subd. Biwas, Tanza, Cavite \"\n",
        "age = \"20 Years old \"\n",
        "\n",
        "print (\"Hello \" + name + \"This is your first Laboratory. You are from \" + addr + \"and you are \" + age)"
      ],
      "execution_count": 5,
      "outputs": [
        {
          "output_type": "stream",
          "name": "stdout",
          "text": [
            "Welcome to Python Programming!\n",
            "Hello Ryan Nico Anogante This is your first Laboratory. You are from 822 Udasco Subd. Biwas, Tanza, Cavite and you are 20 Years old \n"
          ]
        }
      ]
    }
  ]
}
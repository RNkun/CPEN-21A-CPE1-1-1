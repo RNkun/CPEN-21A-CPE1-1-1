{
  "nbformat": 4,
  "nbformat_minor": 0,
  "metadata": {
    "colab": {
      "name": "FINALSipynb",
      "provenance": [],
      "collapsed_sections": [],
      "authorship_tag": "ABX9TyMKRpmie5vWr2xcSEU9fkBz",
      "include_colab_link": true
    },
    "kernelspec": {
      "name": "python3",
      "display_name": "Python 3"
    },
    "language_info": {
      "name": "python"
    }
  },
  "cells": [
    {
      "cell_type": "markdown",
      "metadata": {
        "id": "view-in-github",
        "colab_type": "text"
      },
      "source": [
        "<a href=\"https://colab.research.google.com/github/RNkun/CPEN-21A-CPE1-1-1/blob/main/FINALSipynb.ipynb\" target=\"_parent\"><img src=\"https://colab.research.google.com/assets/colab-badge.svg\" alt=\"Open In Colab\"/></a>"
      ]
    },
    {
      "cell_type": "code",
      "execution_count": null,
      "metadata": {
        "colab": {
          "base_uri": "https://localhost:8080/"
        },
        "id": "dBKAU_eqYKpf",
        "outputId": "36c947ca-6ab6-46f2-d35d-863b7b48a8de"
      },
      "outputs": [
        {
          "output_type": "stream",
          "name": "stdout",
          "text": [
            "-4\n",
            "-3\n",
            "-2\n",
            "-1\n",
            "0\n",
            "1\n",
            "2\n",
            "3\n",
            "4\n",
            "5\n"
          ]
        }
      ],
      "source": [
        "#Problem 1: Create a Python program that will produce an output of sum of 10 numbers less than 5 using FOR LOOP statement.\n",
        "\n",
        "for x in range(1,11):\n",
        "  print(x-5) "
      ]
    },
    {
      "cell_type": "code",
      "source": [
        "#Problem 2: Create a Python program that will produce accept five numbers and determine the sum of first and last number among the five numbers entered using WHILE LOOP\n",
        "\n",
        "a = int(input(\"Input your 1st number: \"))\n",
        "while (a !=0):\n",
        "  b = int(input(\"Input your 2nd number: \"))\n",
        "  c = int(input(\"Input your 3rd number: \"))\n",
        "  d = int(input(\"Input your 4th number: \"))\n",
        "  e = int(input(\"Input your 5th number: \"))\n",
        "  break\n",
        "  x = e\n",
        "while (x!=0):\n",
        "  x = a + e\n",
        "  print(\"The sum of the First and Last Number is\", x)\n",
        "  a -=1\n",
        "  break"
      ],
      "metadata": {
        "colab": {
          "base_uri": "https://localhost:8080/"
        },
        "id": "oThjeRZrnGwA",
        "outputId": "e83234d0-3758-4fd8-b220-26d5dc4f6562"
      },
      "execution_count": null,
      "outputs": [
        {
          "output_type": "stream",
          "name": "stdout",
          "text": [
            "Input your 1st number: 55\n",
            "Input your 2nd number: 6\n",
            "Input your 3rd number: 34\n",
            "Input your 4th number: 6\n",
            "Input your 5th number: 45\n",
            "The sum of the First and Last Number is 100\n"
          ]
        }
      ]
    },
    {
      "cell_type": "code",
      "source": [
        "#Problem 3\n",
        "\n",
        "grade=int(input(\"Input your character grade:\"))\n",
        "\n",
        "\n",
        "if grade>=90:\n",
        "  print(\"Your numerical grade is\", str(grade), \"which falls under the A grade.\")\n",
        "elif grade<90 and grade>=80:\n",
        "  print(\"Your numerical grade is\", str(grade), \"which falls under the B grade.\")\n",
        "elif grade<80 and grade>=70:\n",
        "  print(\"Your numerical grade is\", str(grade), \"which falls under the C grade.\")\n",
        "elif grade<70 and grade>=60:\n",
        "  print(\"Your numerical grade is\", str(grade), \"which falls under the D grade.\")\n",
        "else:\n",
        "  print(\"Your numerical grade is\", str(grade), \"which falls under the F grade.\")"
      ],
      "metadata": {
        "colab": {
          "base_uri": "https://localhost:8080/"
        },
        "outputId": "96ca0425-e916-4ad0-f2f9-554202894ded",
        "id": "42QFl0QftDcZ"
      },
      "execution_count": null,
      "outputs": [
        {
          "output_type": "stream",
          "name": "stdout",
          "text": [
            "Input your character grade:100\n",
            "Your numerical grade is 100 which falls under the A grade.\n"
          ]
        }
      ]
    }
  ]
}